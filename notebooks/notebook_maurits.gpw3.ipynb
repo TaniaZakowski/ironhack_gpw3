{
 "cells": [
  {
   "cell_type": "code",
   "execution_count": 53,
   "id": "81845f77-0457-44ca-bd4b-adc53cbbd67c",
   "metadata": {},
   "outputs": [
    {
     "name": "stderr",
     "output_type": "stream",
     "text": [
      "Matplotlib is building the font cache; this may take a moment.\n"
     ]
    },
    {
     "data": {
      "text/html": [
       "<div>\n",
       "<style scoped>\n",
       "    .dataframe tbody tr th:only-of-type {\n",
       "        vertical-align: middle;\n",
       "    }\n",
       "\n",
       "    .dataframe tbody tr th {\n",
       "        vertical-align: top;\n",
       "    }\n",
       "\n",
       "    .dataframe thead th {\n",
       "        text-align: right;\n",
       "    }\n",
       "</style>\n",
       "<table border=\"1\" class=\"dataframe\">\n",
       "  <thead>\n",
       "    <tr style=\"text-align: right;\">\n",
       "      <th></th>\n",
       "      <th>City Boundary Specification (LAU/grid)</th>\n",
       "      <th>Country Or Territory</th>\n",
       "      <th>City</th>\n",
       "      <th>City Code</th>\n",
       "      <th>Total City Population *</th>\n",
       "      <th>Year</th>\n",
       "      <th>Air Pollutant</th>\n",
       "      <th>Health Risk Scenario</th>\n",
       "      <th>Populated Area [km2]</th>\n",
       "      <th>Air Pollution Average [ug/m3]</th>\n",
       "      <th>Air Pollution Population Weighted Average [ug/m3]</th>\n",
       "      <th>Premature Deaths</th>\n",
       "      <th>Premature Deaths - lower CI</th>\n",
       "      <th>Premature Deaths - upper CI</th>\n",
       "      <th>Years Of Life Lost</th>\n",
       "      <th>Years Of Life Lost - lower CI</th>\n",
       "      <th>Years Of Life Lost - upper CI</th>\n",
       "    </tr>\n",
       "  </thead>\n",
       "  <tbody>\n",
       "    <tr>\n",
       "      <th>0</th>\n",
       "      <td>Urban Centres (grid)</td>\n",
       "      <td>Austria</td>\n",
       "      <td>All Urban Centres in a Country</td>\n",
       "      <td>NaN</td>\n",
       "      <td>2405646</td>\n",
       "      <td>2005</td>\n",
       "      <td>NO2</td>\n",
       "      <td>WHO_2005_HRAPIE_Scen_Base</td>\n",
       "      <td>446</td>\n",
       "      <td>30.3</td>\n",
       "      <td>32.8</td>\n",
       "      <td>1352.0</td>\n",
       "      <td>783.0</td>\n",
       "      <td>1911.0</td>\n",
       "      <td>14704.0</td>\n",
       "      <td>8522.0</td>\n",
       "      <td>20791.0</td>\n",
       "    </tr>\n",
       "    <tr>\n",
       "      <th>1</th>\n",
       "      <td>Urban Centres (grid)</td>\n",
       "      <td>Belgium</td>\n",
       "      <td>All Urban Centres in a Country</td>\n",
       "      <td>NaN</td>\n",
       "      <td>3030639</td>\n",
       "      <td>2005</td>\n",
       "      <td>NO2</td>\n",
       "      <td>WHO_2005_HRAPIE_Scen_Base</td>\n",
       "      <td>745</td>\n",
       "      <td>32.4</td>\n",
       "      <td>35.1</td>\n",
       "      <td>2141.0</td>\n",
       "      <td>1247.0</td>\n",
       "      <td>3017.0</td>\n",
       "      <td>22939.0</td>\n",
       "      <td>13338.0</td>\n",
       "      <td>32327.0</td>\n",
       "    </tr>\n",
       "    <tr>\n",
       "      <th>2</th>\n",
       "      <td>Urban Centres (grid)</td>\n",
       "      <td>Bulgaria</td>\n",
       "      <td>All Urban Centres in a Country</td>\n",
       "      <td>NaN</td>\n",
       "      <td>3010927</td>\n",
       "      <td>2005</td>\n",
       "      <td>NO2</td>\n",
       "      <td>WHO_2005_HRAPIE_Scen_Base</td>\n",
       "      <td>384</td>\n",
       "      <td>23.3</td>\n",
       "      <td>24.9</td>\n",
       "      <td>1236.0</td>\n",
       "      <td>712.0</td>\n",
       "      <td>1759.0</td>\n",
       "      <td>13367.0</td>\n",
       "      <td>7713.0</td>\n",
       "      <td>18982.0</td>\n",
       "    </tr>\n",
       "    <tr>\n",
       "      <th>3</th>\n",
       "      <td>Urban Centres (grid)</td>\n",
       "      <td>Cyprus</td>\n",
       "      <td>All Urban Centres in a Country</td>\n",
       "      <td>NaN</td>\n",
       "      <td>418267</td>\n",
       "      <td>2005</td>\n",
       "      <td>NO2</td>\n",
       "      <td>WHO_2005_HRAPIE_Scen_Base</td>\n",
       "      <td>131</td>\n",
       "      <td>20.3</td>\n",
       "      <td>21.0</td>\n",
       "      <td>24.0</td>\n",
       "      <td>13.0</td>\n",
       "      <td>34.0</td>\n",
       "      <td>249.0</td>\n",
       "      <td>143.0</td>\n",
       "      <td>357.0</td>\n",
       "    </tr>\n",
       "    <tr>\n",
       "      <th>4</th>\n",
       "      <td>Urban Centres (grid)</td>\n",
       "      <td>Czechia</td>\n",
       "      <td>All Urban Centres in a Country</td>\n",
       "      <td>NaN</td>\n",
       "      <td>2464143</td>\n",
       "      <td>2005</td>\n",
       "      <td>NO2</td>\n",
       "      <td>WHO_2005_HRAPIE_Scen_Base</td>\n",
       "      <td>536</td>\n",
       "      <td>26.4</td>\n",
       "      <td>27.6</td>\n",
       "      <td>961.0</td>\n",
       "      <td>554.0</td>\n",
       "      <td>1364.0</td>\n",
       "      <td>10585.0</td>\n",
       "      <td>6105.0</td>\n",
       "      <td>15045.0</td>\n",
       "    </tr>\n",
       "    <tr>\n",
       "      <th>5</th>\n",
       "      <td>Urban Centres (grid)</td>\n",
       "      <td>Germany</td>\n",
       "      <td>All Urban Centres in a Country</td>\n",
       "      <td>NaN</td>\n",
       "      <td>25479567</td>\n",
       "      <td>2005</td>\n",
       "      <td>NO2</td>\n",
       "      <td>WHO_2005_HRAPIE_Scen_Base</td>\n",
       "      <td>6769</td>\n",
       "      <td>29.2</td>\n",
       "      <td>30.7</td>\n",
       "      <td>13555.0</td>\n",
       "      <td>7850.0</td>\n",
       "      <td>19178.0</td>\n",
       "      <td>152916.0</td>\n",
       "      <td>88550.0</td>\n",
       "      <td>216447.0</td>\n",
       "    </tr>\n",
       "    <tr>\n",
       "      <th>6</th>\n",
       "      <td>Urban Centres (grid)</td>\n",
       "      <td>Denmark</td>\n",
       "      <td>All Urban Centres in a Country</td>\n",
       "      <td>NaN</td>\n",
       "      <td>1490619</td>\n",
       "      <td>2005</td>\n",
       "      <td>NO2</td>\n",
       "      <td>WHO_2005_HRAPIE_Scen_Base</td>\n",
       "      <td>400</td>\n",
       "      <td>22.5</td>\n",
       "      <td>24.1</td>\n",
       "      <td>341.0</td>\n",
       "      <td>197.0</td>\n",
       "      <td>487.0</td>\n",
       "      <td>3757.0</td>\n",
       "      <td>2159.0</td>\n",
       "      <td>5354.0</td>\n",
       "    </tr>\n",
       "    <tr>\n",
       "      <th>7</th>\n",
       "      <td>Urban Centres (grid)</td>\n",
       "      <td>Estonia</td>\n",
       "      <td>All Urban Centres in a Country</td>\n",
       "      <td>NaN</td>\n",
       "      <td>522560</td>\n",
       "      <td>2005</td>\n",
       "      <td>NO2</td>\n",
       "      <td>WHO_2005_HRAPIE_Scen_Base</td>\n",
       "      <td>103</td>\n",
       "      <td>16.4</td>\n",
       "      <td>17.4</td>\n",
       "      <td>5.0</td>\n",
       "      <td>3.0</td>\n",
       "      <td>7.0</td>\n",
       "      <td>54.0</td>\n",
       "      <td>31.0</td>\n",
       "      <td>78.0</td>\n",
       "    </tr>\n",
       "    <tr>\n",
       "      <th>8</th>\n",
       "      <td>Urban Centres (grid)</td>\n",
       "      <td>Spain</td>\n",
       "      <td>All Urban Centres in a Country</td>\n",
       "      <td>NaN</td>\n",
       "      <td>21279144</td>\n",
       "      <td>2005</td>\n",
       "      <td>NO2</td>\n",
       "      <td>WHO_2005_HRAPIE_Scen_Base</td>\n",
       "      <td>2439</td>\n",
       "      <td>29.8</td>\n",
       "      <td>34.3</td>\n",
       "      <td>13055.0</td>\n",
       "      <td>7618.0</td>\n",
       "      <td>18337.0</td>\n",
       "      <td>143218.0</td>\n",
       "      <td>83571.0</td>\n",
       "      <td>201141.0</td>\n",
       "    </tr>\n",
       "    <tr>\n",
       "      <th>9</th>\n",
       "      <td>Urban Centres (grid)</td>\n",
       "      <td>European Union Countries</td>\n",
       "      <td>All Urban Centres in EU27</td>\n",
       "      <td>NaN</td>\n",
       "      <td>145177261</td>\n",
       "      <td>2005</td>\n",
       "      <td>NO2</td>\n",
       "      <td>WHO_2005_HRAPIE_Scen_Base</td>\n",
       "      <td>29537</td>\n",
       "      <td>29.3</td>\n",
       "      <td>32.1</td>\n",
       "      <td>81424.0</td>\n",
       "      <td>47430.0</td>\n",
       "      <td>114554.0</td>\n",
       "      <td>907395.0</td>\n",
       "      <td>528454.0</td>\n",
       "      <td>1276934.0</td>\n",
       "    </tr>\n",
       "  </tbody>\n",
       "</table>\n",
       "</div>"
      ],
      "text/plain": [
       "  City Boundary Specification (LAU/grid)      Country Or Territory  \\\n",
       "0                   Urban Centres (grid)                   Austria   \n",
       "1                   Urban Centres (grid)                   Belgium   \n",
       "2                   Urban Centres (grid)                  Bulgaria   \n",
       "3                   Urban Centres (grid)                    Cyprus   \n",
       "4                   Urban Centres (grid)                   Czechia   \n",
       "5                   Urban Centres (grid)                   Germany   \n",
       "6                   Urban Centres (grid)                   Denmark   \n",
       "7                   Urban Centres (grid)                   Estonia   \n",
       "8                   Urban Centres (grid)                     Spain   \n",
       "9                   Urban Centres (grid)  European Union Countries   \n",
       "\n",
       "                             City City Code  Total City Population *  Year  \\\n",
       "0  All Urban Centres in a Country       NaN                  2405646  2005   \n",
       "1  All Urban Centres in a Country       NaN                  3030639  2005   \n",
       "2  All Urban Centres in a Country       NaN                  3010927  2005   \n",
       "3  All Urban Centres in a Country       NaN                   418267  2005   \n",
       "4  All Urban Centres in a Country       NaN                  2464143  2005   \n",
       "5  All Urban Centres in a Country       NaN                 25479567  2005   \n",
       "6  All Urban Centres in a Country       NaN                  1490619  2005   \n",
       "7  All Urban Centres in a Country       NaN                   522560  2005   \n",
       "8  All Urban Centres in a Country       NaN                 21279144  2005   \n",
       "9       All Urban Centres in EU27       NaN                145177261  2005   \n",
       "\n",
       "  Air Pollutant       Health Risk Scenario  Populated Area [km2]  \\\n",
       "0           NO2  WHO_2005_HRAPIE_Scen_Base                   446   \n",
       "1           NO2  WHO_2005_HRAPIE_Scen_Base                   745   \n",
       "2           NO2  WHO_2005_HRAPIE_Scen_Base                   384   \n",
       "3           NO2  WHO_2005_HRAPIE_Scen_Base                   131   \n",
       "4           NO2  WHO_2005_HRAPIE_Scen_Base                   536   \n",
       "5           NO2  WHO_2005_HRAPIE_Scen_Base                  6769   \n",
       "6           NO2  WHO_2005_HRAPIE_Scen_Base                   400   \n",
       "7           NO2  WHO_2005_HRAPIE_Scen_Base                   103   \n",
       "8           NO2  WHO_2005_HRAPIE_Scen_Base                  2439   \n",
       "9           NO2  WHO_2005_HRAPIE_Scen_Base                 29537   \n",
       "\n",
       "   Air Pollution Average [ug/m3]  \\\n",
       "0                           30.3   \n",
       "1                           32.4   \n",
       "2                           23.3   \n",
       "3                           20.3   \n",
       "4                           26.4   \n",
       "5                           29.2   \n",
       "6                           22.5   \n",
       "7                           16.4   \n",
       "8                           29.8   \n",
       "9                           29.3   \n",
       "\n",
       "   Air Pollution Population Weighted Average [ug/m3]  Premature Deaths  \\\n",
       "0                                               32.8            1352.0   \n",
       "1                                               35.1            2141.0   \n",
       "2                                               24.9            1236.0   \n",
       "3                                               21.0              24.0   \n",
       "4                                               27.6             961.0   \n",
       "5                                               30.7           13555.0   \n",
       "6                                               24.1             341.0   \n",
       "7                                               17.4               5.0   \n",
       "8                                               34.3           13055.0   \n",
       "9                                               32.1           81424.0   \n",
       "\n",
       "   Premature Deaths - lower CI  Premature Deaths - upper CI  \\\n",
       "0                        783.0                       1911.0   \n",
       "1                       1247.0                       3017.0   \n",
       "2                        712.0                       1759.0   \n",
       "3                         13.0                         34.0   \n",
       "4                        554.0                       1364.0   \n",
       "5                       7850.0                      19178.0   \n",
       "6                        197.0                        487.0   \n",
       "7                          3.0                          7.0   \n",
       "8                       7618.0                      18337.0   \n",
       "9                      47430.0                     114554.0   \n",
       "\n",
       "   Years Of Life Lost  Years Of Life Lost - lower CI  \\\n",
       "0             14704.0                         8522.0   \n",
       "1             22939.0                        13338.0   \n",
       "2             13367.0                         7713.0   \n",
       "3               249.0                          143.0   \n",
       "4             10585.0                         6105.0   \n",
       "5            152916.0                        88550.0   \n",
       "6              3757.0                         2159.0   \n",
       "7                54.0                           31.0   \n",
       "8            143218.0                        83571.0   \n",
       "9            907395.0                       528454.0   \n",
       "\n",
       "   Years Of Life Lost - upper CI  \n",
       "0                        20791.0  \n",
       "1                        32327.0  \n",
       "2                        18982.0  \n",
       "3                          357.0  \n",
       "4                        15045.0  \n",
       "5                       216447.0  \n",
       "6                         5354.0  \n",
       "7                           78.0  \n",
       "8                       201141.0  \n",
       "9                      1276934.0  "
      ]
     },
     "execution_count": 53,
     "metadata": {},
     "output_type": "execute_result"
    }
   ],
   "source": [
    "import numpy as np\n",
    "import pandas as pd\n",
    "import matplotlib as mp\n",
    "import seaborn as sns\n",
    "\n",
    "df = pd.read_csv(\"/Users/maurits/Documents/Ironhack/week_03/GPW3/ironhack_gpw3/data/combined_dataset_allyears.csv\")\n",
    "df.head(10)"
   ]
  },
  {
   "cell_type": "code",
   "execution_count": 54,
   "id": "8f0c2f1a-31e7-4d0c-b7ab-e9237165fd7d",
   "metadata": {},
   "outputs": [],
   "source": [
    "# CLEANING TECHNIQUES:\n",
    "\n",
    "# 1. concatenate datasets DONE\n",
    "# 2. rename columns: replace white spaces with underscores DONE\n",
    "# 3. replace null values in column premature deaths with appropriate values\n",
    "# 4. remove duplicated rows (if any)\n",
    "# 5. remove redundant columns\n",
    "# 6. handle null values\n",
    "# 7. reset index"
   ]
  },
  {
   "cell_type": "code",
   "execution_count": 55,
   "id": "8d14c108-c769-437a-a84a-9b97d33be3a9",
   "metadata": {},
   "outputs": [],
   "source": [
    "# 2. lowercase column names and replace white spaces for underscores.\n",
    "\n",
    "df.columns = [col.replace(\" \",\"_\").lower() for col in df.columns]"
   ]
  },
  {
   "cell_type": "code",
   "execution_count": 56,
   "id": "242b8004-7d4f-418d-bcff-92471a8e52bf",
   "metadata": {},
   "outputs": [
    {
     "data": {
      "text/plain": [
       "['city_boundary_specification_(lau/grid)',\n",
       " 'country_or_territory',\n",
       " 'city',\n",
       " 'city_code',\n",
       " 'total_city_population_*',\n",
       " 'year',\n",
       " 'air_pollutant',\n",
       " 'health_risk_scenario',\n",
       " 'populated_area_[km2]',\n",
       " 'air_pollution_average_[ug/m3]',\n",
       " 'air_pollution_population_weighted_average_[ug/m3]',\n",
       " 'premature_deaths',\n",
       " 'premature_deaths_-_lower_ci',\n",
       " 'premature_deaths_-_upper_ci',\n",
       " 'years_of_life_lost',\n",
       " 'years_of_life_lost_-_lower_ci',\n",
       " 'years_of_life_lost_-_upper_ci']"
      ]
     },
     "execution_count": 56,
     "metadata": {},
     "output_type": "execute_result"
    }
   ],
   "source": [
    "# column_names = list([df.columns])\n",
    "column_names = df.columns.tolist()\n",
    "column_names"
   ]
  },
  {
   "cell_type": "code",
   "execution_count": 57,
   "id": "e933d2a4-1d67-471e-a8eb-8ce7b3e0fb06",
   "metadata": {},
   "outputs": [
    {
     "data": {
      "text/plain": [
       "['premature_deaths',\n",
       " 'premature_deaths_-_lower_ci',\n",
       " 'premature_deaths_-_upper_ci',\n",
       " 'years_of_life_lost',\n",
       " 'years_of_life_lost_-_lower_ci',\n",
       " 'years_of_life_lost_-_upper_ci']"
      ]
     },
     "execution_count": 57,
     "metadata": {},
     "output_type": "execute_result"
    }
   ],
   "source": [
    "column_names[-6:]"
   ]
  },
  {
   "cell_type": "code",
   "execution_count": 58,
   "id": "10a07310-745a-4641-b118-91cc3d40d014",
   "metadata": {},
   "outputs": [
    {
     "name": "stdout",
     "output_type": "stream",
     "text": [
      "       country_or_territory  year\n",
      "56                  Austria  2005\n",
      "57                  Belgium  2005\n",
      "58                 Bulgaria  2005\n",
      "59                   Cyprus  2005\n",
      "60                  Czechia  2005\n",
      "...                     ...   ...\n",
      "226583             Slovakia  2019\n",
      "226590             Slovakia  2020\n",
      "226594             Slovakia  2020\n",
      "226601             Slovakia  2021\n",
      "226605             Slovakia  2021\n",
      "\n",
      "[49708 rows x 2 columns]\n"
     ]
    },
    {
     "data": {
      "text/html": [
       "<div>\n",
       "<style scoped>\n",
       "    .dataframe tbody tr th:only-of-type {\n",
       "        vertical-align: middle;\n",
       "    }\n",
       "\n",
       "    .dataframe tbody tr th {\n",
       "        vertical-align: top;\n",
       "    }\n",
       "\n",
       "    .dataframe thead th {\n",
       "        text-align: right;\n",
       "    }\n",
       "</style>\n",
       "<table border=\"1\" class=\"dataframe\">\n",
       "  <thead>\n",
       "    <tr style=\"text-align: right;\">\n",
       "      <th></th>\n",
       "      <th>year</th>\n",
       "    </tr>\n",
       "  </thead>\n",
       "  <tbody>\n",
       "    <tr>\n",
       "      <th>count</th>\n",
       "      <td>49708.000000</td>\n",
       "    </tr>\n",
       "    <tr>\n",
       "      <th>mean</th>\n",
       "      <td>2013.000000</td>\n",
       "    </tr>\n",
       "    <tr>\n",
       "      <th>std</th>\n",
       "      <td>4.899029</td>\n",
       "    </tr>\n",
       "    <tr>\n",
       "      <th>min</th>\n",
       "      <td>2005.000000</td>\n",
       "    </tr>\n",
       "    <tr>\n",
       "      <th>25%</th>\n",
       "      <td>2009.000000</td>\n",
       "    </tr>\n",
       "    <tr>\n",
       "      <th>50%</th>\n",
       "      <td>2013.000000</td>\n",
       "    </tr>\n",
       "    <tr>\n",
       "      <th>75%</th>\n",
       "      <td>2017.000000</td>\n",
       "    </tr>\n",
       "    <tr>\n",
       "      <th>max</th>\n",
       "      <td>2021.000000</td>\n",
       "    </tr>\n",
       "  </tbody>\n",
       "</table>\n",
       "</div>"
      ],
      "text/plain": [
       "               year\n",
       "count  49708.000000\n",
       "mean    2013.000000\n",
       "std        4.899029\n",
       "min     2005.000000\n",
       "25%     2009.000000\n",
       "50%     2013.000000\n",
       "75%     2017.000000\n",
       "max     2021.000000"
      ]
     },
     "execution_count": 58,
     "metadata": {},
     "output_type": "execute_result"
    }
   ],
   "source": [
    "columns_to_check = column_names[-6:]\n",
    "\n",
    "rows_with_null_values = df[columns_to_check].isnull().all(axis=1)\n",
    "\n",
    "years_countries = df.loc[rows_with_null_values, ['country_or_territory', 'year']]\n",
    "\n",
    "\n",
    "print(years_countries)\n",
    "\n",
    "\n",
    "years_countries.describe()"
   ]
  },
  {
   "cell_type": "code",
   "execution_count": 60,
   "id": "be6c3e9d-1a5a-49bb-8a22-fa30b5b7a441",
   "metadata": {},
   "outputs": [
    {
     "data": {
      "text/plain": [
       "0         1352.0\n",
       "1         2141.0\n",
       "2         1236.0\n",
       "3           24.0\n",
       "4          961.0\n",
       "           ...  \n",
       "226605      31.0\n",
       "226606      63.0\n",
       "226607      22.0\n",
       "226608      17.0\n",
       "226609      91.0\n",
       "Name: premature_deaths, Length: 226610, dtype: float64"
      ]
     },
     "execution_count": 60,
     "metadata": {},
     "output_type": "execute_result"
    }
   ],
   "source": [
    "# Fill NaN in premature deaths with mean, sort by city and year\n",
    "\n",
    "def fill_na_with_group_mean(group):\n",
    "    return group.fillna(group.mean())\n",
    "\n",
    "df['premature_deaths'] = df.groupby(['city', 'year'])['premature_deaths'].transform(fill_na_with_group_mean)\n",
    "\n",
    "df['premature_deaths']\n",
    "df_mean = df\n",
    "df_mean['premature_deaths']"
   ]
  },
  {
   "cell_type": "code",
   "execution_count": 61,
   "id": "26e06cbb-ef0a-4ca1-9c60-800824a288cd",
   "metadata": {},
   "outputs": [],
   "source": [
    "# Check with an appopriate visualisation method which aggregation method is most appropriate (mean or median)."
   ]
  },
  {
   "cell_type": "code",
   "execution_count": 62,
   "id": "01df7c2b-b6f5-4d1a-895a-0307a2795aff",
   "metadata": {},
   "outputs": [
    {
     "data": {
      "text/plain": [
       "<Axes: xlabel='premature_deaths', ylabel='count'>"
      ]
     },
     "execution_count": 62,
     "metadata": {},
     "output_type": "execute_result"
    },
    {
     "data": {
      "image/png": "[encoded data removed]",
      "text/plain": [
       "<Figure size 640x480 with 1 Axes>"
      ]
     },
     "metadata": {},
     "output_type": "display_data"
    }
   ],
   "source": [
    "sns.countplot(x='premature_deaths', data=df)"
   ]
  },
  {
   "cell_type": "code",
   "execution_count": 63,
   "id": "adff5a06-9a62-46f2-a7c6-9d5ae0720225",
   "metadata": {},
   "outputs": [],
   "source": [
    "# Fill NaN in premature deaths with median, sort by city and year\n",
    "\n",
    "def fill_na_with_group_median(group):\n",
    "    return group.fillna(group.median())\n",
    "\n",
    "df['premature_deaths'] = df.groupby(['city', 'year'])['premature_deaths'].transform(fill_na_with_group_median)\n",
    "\n",
    "df['premature_deaths']\n",
    "df_median = df"
   ]
  },
  {
   "cell_type": "code",
   "execution_count": 64,
   "id": "15316da3-0de8-45c4-9c79-68bf2c10a765",
   "metadata": {},
   "outputs": [
    {
     "data": {
      "text/plain": [
       "<Axes: xlabel='premature_deaths', ylabel='count'>"
      ]
     },
     "execution_count": 64,
     "metadata": {},
     "output_type": "execute_result"
    },
    {
     "data": {
      "image/png": "[encoded data removed]",
      "text/plain": [
       "<Figure size 640x480 with 1 Axes>"
      ]
     },
     "metadata": {},
     "output_type": "display_data"
    }
   ],
   "source": [
    "sns.countplot(x='premature_deaths', data=df_median)"
   ]
  },
  {
   "cell_type": "code",
   "execution_count": null,
   "id": "6b4ddd06-9fe6-4d6a-8656-fec6473d34d8",
   "metadata": {},
   "outputs": [],
   "source": [
    "# 3. remove duplicated rows (if any)\n",
    "\n"
   ]
  },
  {
   "cell_type": "code",
   "execution_count": null,
   "id": "22a06051-3a67-4877-ac47-9fd54837b36d",
   "metadata": {},
   "outputs": [],
   "source": []
  },
  {
   "cell_type": "code",
   "execution_count": null,
   "id": "df2c6431-372e-454f-a839-80e42c0370e9",
   "metadata": {},
   "outputs": [],
   "source": []
  },
  {
   "cell_type": "code",
   "execution_count": null,
   "id": "2351c4e9-e772-4333-8c05-73bc5bd4c1f2",
   "metadata": {},
   "outputs": [],
   "source": []
  },
  {
   "cell_type": "code",
   "execution_count": null,
   "id": "c3d37061-046b-4a00-a6e1-e5300c599866",
   "metadata": {},
   "outputs": [],
   "source": []
  },
  {
   "cell_type": "code",
   "execution_count": null,
   "id": "cd9d4005-2741-4861-afb8-8ff7e9b2401a",
   "metadata": {},
   "outputs": [],
   "source": []
  },
  {
   "cell_type": "code",
   "execution_count": null,
   "id": "2dc20d5f-e91d-4173-b224-4f854e7c30a2",
   "metadata": {},
   "outputs": [],
   "source": []
  },
  {
   "cell_type": "code",
   "execution_count": null,
   "id": "cf38877f-ad6f-4295-b625-f0ba6f1e8342",
   "metadata": {},
   "outputs": [],
   "source": []
  },
  {
   "cell_type": "code",
   "execution_count": null,
   "id": "41ef1fe1-c6f1-42ae-9eef-2858fa41773a",
   "metadata": {},
   "outputs": [],
   "source": []
  },
  {
   "cell_type": "code",
   "execution_count": null,
   "id": "f2688a3c-315c-4f51-93c0-af1a5b14a666",
   "metadata": {},
   "outputs": [],
   "source": []
  },
  {
   "cell_type": "code",
   "execution_count": null,
   "id": "da56d754-b35a-48d1-a732-4ba036117b6f",
   "metadata": {},
   "outputs": [],
   "source": []
  },
  {
   "cell_type": "code",
   "execution_count": null,
   "id": "b975f074-1156-45e2-9aef-c79312d1b75f",
   "metadata": {},
   "outputs": [],
   "source": []
  },
  {
   "cell_type": "code",
   "execution_count": null,
   "id": "15368416-6ff7-4d86-8137-877563a61148",
   "metadata": {},
   "outputs": [],
   "source": []
  },
  {
   "cell_type": "code",
   "execution_count": null,
   "id": "f56c4d60-40c3-4029-b01e-40bdad56d9de",
   "metadata": {},
   "outputs": [],
   "source": []
  },
  {
   "cell_type": "code",
   "execution_count": null,
   "id": "92dbdf00-1a64-4b20-b395-8815088e63db",
   "metadata": {},
   "outputs": [],
   "source": []
  },
  {
   "cell_type": "code",
   "execution_count": null,
   "id": "2cc3086d-145d-4e12-b4a7-52c31f1b7358",
   "metadata": {},
   "outputs": [],
   "source": []
  },
  {
   "cell_type": "code",
   "execution_count": null,
   "id": "2951ec5e-c452-4be0-b757-4383880c8cd4",
   "metadata": {},
   "outputs": [],
   "source": []
  },
  {
   "cell_type": "code",
   "execution_count": 3,
   "id": "4e23b0d1-e61a-443d-aaa9-a65fd0b81ad7",
   "metadata": {},
   "outputs": [
    {
     "data": {
      "text/plain": [
       "(226610, 17)"
      ]
     },
     "execution_count": 3,
     "metadata": {},
     "output_type": "execute_result"
    }
   ],
   "source": [
    "df.shape"
   ]
  },
  {
   "cell_type": "code",
   "execution_count": 4,
   "id": "d34a49b5-5ea4-4cdb-805c-ecd7ec7a5f85",
   "metadata": {},
   "outputs": [
    {
     "name": "stdout",
     "output_type": "stream",
     "text": [
      "<class 'pandas.core.frame.DataFrame'>\n",
      "RangeIndex: 226610 entries, 0 to 226609\n",
      "Data columns (total 17 columns):\n",
      " #   Column                                             Non-Null Count   Dtype  \n",
      "---  ------                                             --------------   -----  \n",
      " 0   City Boundary Specification (LAU/grid)             226610 non-null  object \n",
      " 1   Country Or Territory                               226610 non-null  object \n",
      " 2   City                                               226610 non-null  object \n",
      " 3   City Code                                          222270 non-null  object \n",
      " 4   Total City Population *                            226610 non-null  int64  \n",
      " 5   Year                                               226610 non-null  int64  \n",
      " 6   Air Pollutant                                      226610 non-null  object \n",
      " 7   Health Risk Scenario                               226610 non-null  object \n",
      " 8   Populated Area [km2]                               226610 non-null  int64  \n",
      " 9   Air Pollution Average [ug/m3]                      226610 non-null  float64\n",
      " 10  Air Pollution Population Weighted Average [ug/m3]  226610 non-null  float64\n",
      " 11  Premature Deaths                                   176902 non-null  float64\n",
      " 12  Premature Deaths - lower CI                        176902 non-null  float64\n",
      " 13  Premature Deaths - upper CI                        176902 non-null  float64\n",
      " 14  Years Of Life Lost                                 176902 non-null  float64\n",
      " 15  Years Of Life Lost - lower CI                      176902 non-null  float64\n",
      " 16  Years Of Life Lost - upper CI                      176902 non-null  float64\n",
      "dtypes: float64(8), int64(3), object(6)\n",
      "memory usage: 29.4+ MB\n"
     ]
    }
   ],
   "source": [
    "df.info()"
   ]
  },
  {
   "cell_type": "code",
   "execution_count": 5,
   "id": "cba99e45-b2a9-4242-afd3-388b7307dc11",
   "metadata": {},
   "outputs": [
    {
     "data": {
      "text/plain": [
       "City Boundary Specification (LAU/grid)                   2\n",
       "Country Or Territory                                    28\n",
       "City                                                   908\n",
       "City Code                                             1434\n",
       "Total City Population *                              23366\n",
       "Year                                                    17\n",
       "Air Pollutant                                            4\n",
       "Health Risk Scenario                                     3\n",
       "Populated Area [km2]                                   377\n",
       "Air Pollution Average [ug/m3]                        25539\n",
       "Air Pollution Population Weighted Average [ug/m3]    25291\n",
       "Premature Deaths                                      3926\n",
       "Premature Deaths - lower CI                           3247\n",
       "Premature Deaths - upper CI                           4535\n",
       "Years Of Life Lost                                   12516\n",
       "Years Of Life Lost - lower CI                        10475\n",
       "Years Of Life Lost - upper CI                        14215\n",
       "dtype: int64"
      ]
     },
     "execution_count": 5,
     "metadata": {},
     "output_type": "execute_result"
    }
   ],
   "source": [
    "df.nunique()"
   ]
  },
  {
   "cell_type": "code",
   "execution_count": 11,
   "id": "3d842365-ef83-40f2-919d-ca4a34c3847e",
   "metadata": {},
   "outputs": [
    {
     "data": {
      "text/plain": [
       "City Boundary Specification (LAU/grid)                   0\n",
       "Country Or Territory                                     0\n",
       "City                                                     0\n",
       "City Code                                             4340\n",
       "Total City Population *                                  0\n",
       "Year                                                     0\n",
       "Air Pollutant                                            0\n",
       "Health Risk Scenario                                     0\n",
       "Populated Area [km2]                                     0\n",
       "Air Pollution Average [ug/m3]                            0\n",
       "Air Pollution Population Weighted Average [ug/m3]        0\n",
       "Premature Deaths                                     49708\n",
       "Premature Deaths - lower CI                          49708\n",
       "Premature Deaths - upper CI                          49708\n",
       "Years Of Life Lost                                   49708\n",
       "Years Of Life Lost - lower CI                        49708\n",
       "Years Of Life Lost - upper CI                        49708\n",
       "dtype: int64"
      ]
     },
     "execution_count": 11,
     "metadata": {},
     "output_type": "execute_result"
    }
   ],
   "source": [
    "# Null values check\n",
    "df.isna().any()\n",
    "df.isna().sum()\n",
    "\n",
    "# findings: suggesting to drop city code (-1.92%)\n",
    "# potentially dropping premature deaths (-21.94%)"
   ]
  },
  {
   "cell_type": "code",
   "execution_count": 14,
   "id": "b12d12cc-c01e-4d2c-a800-217e0be33bfd",
   "metadata": {},
   "outputs": [
    {
     "data": {
      "text/plain": [
       "np.int64(149969425)"
      ]
     },
     "execution_count": 14,
     "metadata": {},
     "output_type": "execute_result"
    }
   ],
   "source": [
    "df['Total City Population *'].max()"
   ]
  },
  {
   "cell_type": "code",
   "execution_count": 15,
   "id": "c9659a43-053e-4445-b9b7-c6a311f1c5f6",
   "metadata": {},
   "outputs": [
    {
     "name": "stdout",
     "output_type": "stream",
     "text": [
      "       Country Or Territory  Year\n",
      "56                  Austria  2005\n",
      "57                  Belgium  2005\n",
      "58                 Bulgaria  2005\n",
      "59                   Cyprus  2005\n",
      "60                  Czechia  2005\n",
      "...                     ...   ...\n",
      "226583             Slovakia  2019\n",
      "226590             Slovakia  2020\n",
      "226594             Slovakia  2020\n",
      "226601             Slovakia  2021\n",
      "226605             Slovakia  2021\n",
      "\n",
      "[49708 rows x 2 columns]\n",
      "       Country Or Territory  Year\n",
      "56                  Austria  2005\n",
      "57                  Belgium  2005\n",
      "58                 Bulgaria  2005\n",
      "59                   Cyprus  2005\n",
      "60                  Czechia  2005\n",
      "...                     ...   ...\n",
      "226583             Slovakia  2019\n",
      "226590             Slovakia  2020\n",
      "226594             Slovakia  2020\n",
      "226601             Slovakia  2021\n",
      "226605             Slovakia  2021\n",
      "\n",
      "[49708 rows x 2 columns]\n"
     ]
    }
   ],
   "source": [
    "columns_to_check = [\n",
    "    \"Premature Deaths\",\n",
    "    \"Premature Deaths - lower CI\",\n",
    "    \"Premature Deaths - upper CI\",\n",
    "    \"Years Of Life Lost\",\n",
    "    \"Years Of Life Lost - lower CI\",\n",
    "    \"Years Of Life Lost - upper CI\"\n",
    "]\n",
    "\n",
    "rows_with_null_values = df[columns_to_check].isnull().all(axis=1)\n",
    "\n",
    "years_countries = df.loc[rows_with_null_values, ['Country Or Territory', 'Year']]\n",
    "\n",
    "\n",
    "print(years_countries)\n",
    "\n",
    "rows_with_null_values = df[columns_to_check].isnull().all(axis=1)\n",
    "\n",
    "years_countries = df.loc[rows_with_null_values, ['Country Or Territory', 'Year']]\n",
    "\n",
    "\n",
    "print(years_countries)"
   ]
  },
  {
   "cell_type": "code",
   "execution_count": 19,
   "id": "fee46066-eac1-4a57-a224-8418f4ef290a",
   "metadata": {},
   "outputs": [
    {
     "ename": "AttributeError",
     "evalue": "'DataFrame' object has no attribute 'unique'",
     "output_type": "error",
     "traceback": [
      "\u001b[0;31m---------------------------------------------------------------------------\u001b[0m",
      "\u001b[0;31mAttributeError\u001b[0m                            Traceback (most recent call last)",
      "\u001b[0;32m/var/folders/3v/mdv6bm7j6n99zg9hqgt9n70r0000gn/T/ipykernel_7460/2771170331.py\u001b[0m in \u001b[0;36m?\u001b[0;34m()\u001b[0m\n\u001b[0;32m----> 1\u001b[0;31m \u001b[0myears_countries\u001b[0m\u001b[0;34m.\u001b[0m\u001b[0munique\u001b[0m\u001b[0;34m(\u001b[0m\u001b[0;34m)\u001b[0m\u001b[0;34m\u001b[0m\u001b[0;34m\u001b[0m\u001b[0m\n\u001b[0m",
      "\u001b[0;32m~/Documents/Ironhack/week_03/GPW3/ironhack_gpw3/.venv/lib/python3.12/site-packages/pandas/core/generic.py\u001b[0m in \u001b[0;36m?\u001b[0;34m(self, name)\u001b[0m\n\u001b[1;32m   6295\u001b[0m             \u001b[0;32mand\u001b[0m \u001b[0mname\u001b[0m \u001b[0;32mnot\u001b[0m \u001b[0;32min\u001b[0m \u001b[0mself\u001b[0m\u001b[0;34m.\u001b[0m\u001b[0m_accessors\u001b[0m\u001b[0;34m\u001b[0m\u001b[0;34m\u001b[0m\u001b[0m\n\u001b[1;32m   6296\u001b[0m             \u001b[0;32mand\u001b[0m \u001b[0mself\u001b[0m\u001b[0;34m.\u001b[0m\u001b[0m_info_axis\u001b[0m\u001b[0;34m.\u001b[0m\u001b[0m_can_hold_identifiers_and_holds_name\u001b[0m\u001b[0;34m(\u001b[0m\u001b[0mname\u001b[0m\u001b[0;34m)\u001b[0m\u001b[0;34m\u001b[0m\u001b[0;34m\u001b[0m\u001b[0m\n\u001b[1;32m   6297\u001b[0m         \u001b[0;34m)\u001b[0m\u001b[0;34m:\u001b[0m\u001b[0;34m\u001b[0m\u001b[0;34m\u001b[0m\u001b[0m\n\u001b[1;32m   6298\u001b[0m             \u001b[0;32mreturn\u001b[0m \u001b[0mself\u001b[0m\u001b[0;34m[\u001b[0m\u001b[0mname\u001b[0m\u001b[0;34m]\u001b[0m\u001b[0;34m\u001b[0m\u001b[0;34m\u001b[0m\u001b[0m\n\u001b[0;32m-> 6299\u001b[0;31m         \u001b[0;32mreturn\u001b[0m \u001b[0mobject\u001b[0m\u001b[0;34m.\u001b[0m\u001b[0m__getattribute__\u001b[0m\u001b[0;34m(\u001b[0m\u001b[0mself\u001b[0m\u001b[0;34m,\u001b[0m \u001b[0mname\u001b[0m\u001b[0;34m)\u001b[0m\u001b[0;34m\u001b[0m\u001b[0;34m\u001b[0m\u001b[0m\n\u001b[0m",
      "\u001b[0;31mAttributeError\u001b[0m: 'DataFrame' object has no attribute 'unique'"
     ]
    }
   ],
   "source": [
    "years_countries.unique()"
   ]
  },
  {
   "cell_type": "code",
   "execution_count": 20,
   "id": "f808f8e3-5e69-4f5c-971b-3962e8939b3c",
   "metadata": {},
   "outputs": [
    {
     "data": {
      "text/html": [
       "<div>\n",
       "<style scoped>\n",
       "    .dataframe tbody tr th:only-of-type {\n",
       "        vertical-align: middle;\n",
       "    }\n",
       "\n",
       "    .dataframe tbody tr th {\n",
       "        vertical-align: top;\n",
       "    }\n",
       "\n",
       "    .dataframe thead th {\n",
       "        text-align: right;\n",
       "    }\n",
       "</style>\n",
       "<table border=\"1\" class=\"dataframe\">\n",
       "  <thead>\n",
       "    <tr style=\"text-align: right;\">\n",
       "      <th></th>\n",
       "      <th>Country Or Territory</th>\n",
       "      <th>Year</th>\n",
       "    </tr>\n",
       "  </thead>\n",
       "  <tbody>\n",
       "    <tr>\n",
       "      <th>56</th>\n",
       "      <td>Austria</td>\n",
       "      <td>2005</td>\n",
       "    </tr>\n",
       "    <tr>\n",
       "      <th>57</th>\n",
       "      <td>Belgium</td>\n",
       "      <td>2005</td>\n",
       "    </tr>\n",
       "    <tr>\n",
       "      <th>58</th>\n",
       "      <td>Bulgaria</td>\n",
       "      <td>2005</td>\n",
       "    </tr>\n",
       "    <tr>\n",
       "      <th>59</th>\n",
       "      <td>Cyprus</td>\n",
       "      <td>2005</td>\n",
       "    </tr>\n",
       "    <tr>\n",
       "      <th>60</th>\n",
       "      <td>Czechia</td>\n",
       "      <td>2005</td>\n",
       "    </tr>\n",
       "    <tr>\n",
       "      <th>...</th>\n",
       "      <td>...</td>\n",
       "      <td>...</td>\n",
       "    </tr>\n",
       "    <tr>\n",
       "      <th>226583</th>\n",
       "      <td>Slovakia</td>\n",
       "      <td>2019</td>\n",
       "    </tr>\n",
       "    <tr>\n",
       "      <th>226590</th>\n",
       "      <td>Slovakia</td>\n",
       "      <td>2020</td>\n",
       "    </tr>\n",
       "    <tr>\n",
       "      <th>226594</th>\n",
       "      <td>Slovakia</td>\n",
       "      <td>2020</td>\n",
       "    </tr>\n",
       "    <tr>\n",
       "      <th>226601</th>\n",
       "      <td>Slovakia</td>\n",
       "      <td>2021</td>\n",
       "    </tr>\n",
       "    <tr>\n",
       "      <th>226605</th>\n",
       "      <td>Slovakia</td>\n",
       "      <td>2021</td>\n",
       "    </tr>\n",
       "  </tbody>\n",
       "</table>\n",
       "<p>49708 rows × 2 columns</p>\n",
       "</div>"
      ],
      "text/plain": [
       "       Country Or Territory  Year\n",
       "56                  Austria  2005\n",
       "57                  Belgium  2005\n",
       "58                 Bulgaria  2005\n",
       "59                   Cyprus  2005\n",
       "60                  Czechia  2005\n",
       "...                     ...   ...\n",
       "226583             Slovakia  2019\n",
       "226590             Slovakia  2020\n",
       "226594             Slovakia  2020\n",
       "226601             Slovakia  2021\n",
       "226605             Slovakia  2021\n",
       "\n",
       "[49708 rows x 2 columns]"
      ]
     },
     "execution_count": 20,
     "metadata": {},
     "output_type": "execute_result"
    }
   ],
   "source": [
    "years_countries"
   ]
  },
  {
   "cell_type": "code",
   "execution_count": null,
   "id": "42723493-a113-4927-8b5e-7288d55531f0",
   "metadata": {},
   "outputs": [],
   "source": []
  }
 ],
 "metadata": {
  "kernelspec": {
   "display_name": "venv",
   "language": "python",
   "name": "venv"
  },
  "language_info": {
   "codemirror_mode": {
    "name": "ipython",
    "version": 3
   },
   "file_extension": ".py",
   "mimetype": "text/x-python",
   "name": "python",
   "nbconvert_exporter": "python",
   "pygments_lexer": "ipython3",
   "version": "3.12.4"
  }
 },
 "nbformat": 4,
 "nbformat_minor": 5
}
